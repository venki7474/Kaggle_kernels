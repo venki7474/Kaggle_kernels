{
  "nbformat_minor": 0,
  "nbformat": 4,
  "cells": [
    {
      "execution_count": 1,
      "cell_type": "code",
      "source": "#Solving this problem using two methods i.e. using regression trees and using randomforests\n#loading all the required packages\nlibrary(dplyr)\nlibrary(tidyr)\nlibrary(rpart)\nlibrary(randomForest)\nlibrary(ggplot2)",
      "outputs": [],
      "metadata": {
        "_uuid": "5465965b482a4c01173fc5e41475a6fa4e30f589",
        "trusted": false,
        "_cell_guid": "1c0481af-b475-40b3-9040-e1b9b0329206",
        "_execution_state": "idle"
      }
    },
    {
      "metadata": {
        "collapsed": false,
        "_uuid": "2de46b17d62ec4c932d00057bb649eb8473999b9",
        "_execution_state": "idle"
      },
      "source": "#load data\ndata_frame <- read.csv(\"../input/train.csv\", stringsAsFactors = F)\nrow.names(data_frame) <- data_frame$Id\n#removing the id column from the data frame\ndata_frame <- data_frame[,-1]\n#setting all the na values to 0, if there are any\ndata_frame[is.na(data_frame)] <- 0\n\nfor(i in colnames(data_frame[,sapply(data_frame, is.character)])){\n    data_frame[,i] <- as.factor(data_frame[,i]) \n}",
      "execution_count": 1,
      "cell_type": "code",
      "outputs": []
    },
    {
      "metadata": {
        "collapsed": false,
        "_uuid": "4484120076899ab41fd76f51a43b63d68f5026a9",
        "_execution_state": "idle"
      },
      "source": "#creating a sample vector of test values from train data\ntest.n <- sample(1:nrow(data_frame), nrow(data_frame)/3, replace = F)\n\n#test dataset\ntest <- data_frame[test.n,]\n\n#train dataset\ntrain <- data_frame[-test.n,]\nrm(test.n, data_frame)",
      "execution_count": 1,
      "cell_type": "code",
      "outputs": []
    },
    {
      "metadata": {
        "collapsed": false,
        "_uuid": "f3d0ed328ee8e9c0225764037e88df8cb491695b",
        "_execution_state": "idle"
      },
      "source": "#Evaluation metric, root mean square error\nRootMeanSquareError <- function(a,b) {\n    res <- sqrt(sum((log(a)-log(b))^2)/length(b))\n    return(res)\n}",
      "execution_count": 1,
      "cell_type": "code",
      "outputs": []
    },
    {
      "metadata": {
        "collapsed": false,
        "_uuid": "e69854a596fdafca21220f4515e2689f3a4e5c5d",
        "_execution_state": "idle"
      },
      "source": "#Using regression tree, rpart package\nmodel <- rpart(SalePrice ~., data = train, method = \"anova\")\npredict <- predict(model, test)\n\n#finding error for the above predicted model\nerror1 <- RootMeanSquareError(predict, test$SalePrice)\nerror1 <- round(error1, digits = 4)\nplot1 <- predict-test$SalePrice\nerror1",
      "execution_count": 1,
      "cell_type": "code",
      "outputs": [
        {
          "output_type": "display_data",
          "data": {
            "text/plain": "[1] 0.2328",
            "text/latex": "0.2328",
            "text/markdown": "0.2328",
            "text/html": "0.2328"
          },
          "metadata": {}
        }
      ]
    },
    {
      "metadata": {
        "collapsed": false,
        "_uuid": "823e8ebc516bd8535bf850a360391309f0a6f3bc",
        "_execution_state": "idle"
      },
      "source": "#Using RandomForest package\nmodel <- randomForest(SalePrice ~., data = train, method = \"anova\", ntree = 300,\n                      mtry = 26,\n                      replace = F,\n                      nodesize = 1,\n                      importance = T)\npredict <- predict(model, test)\n\n#Finding error for the randomForests model\nerror2 <- RootMeanSquareError(predict, test$SalePrice)\nerror2 <- round(error2, digits = 4)\nplot2 <- predict-test$SalePrice\nerror2",
      "execution_count": 1,
      "cell_type": "code",
      "outputs": [
        {
          "output_type": "display_data",
          "data": {
            "text/plain": "[1] 0.1644",
            "text/latex": "0.1644",
            "text/markdown": "0.1644",
            "text/html": "0.1644"
          },
          "metadata": {}
        }
      ]
    },
    {
      "metadata": {
        "collapsed": false,
        "_uuid": "ae19858d83fac14e3f2398826b7cb3f8e6fd248b",
        "_execution_state": "idle"
      },
      "source": "The root mean squared error for randomForests is less when compared to the regression tree model:\n\nRegression: 0.2328\n\nRandomForest: 0.1644",
      "execution_count": null,
      "cell_type": "markdown",
      "outputs": []
    }
  ],
  "metadata": {
    "kernelspec": {
      "display_name": "R",
      "language": "R",
      "name": "ir"
    },
    "language_info": {
      "mimetype": "text/x-r-source",
      "name": "R",
      "pygments_lexer": "r",
      "version": "3.4.1",
      "file_extension": ".r",
      "codemirror_mode": "r"
    }
  }
}